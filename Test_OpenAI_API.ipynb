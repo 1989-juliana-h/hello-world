{
  "nbformat": 4,
  "nbformat_minor": 0,
  "metadata": {
    "colab": {
      "provenance": [],
      "authorship_tag": "ABX9TyNdB5Ol4Tgbl3EaSJCaOkkm",
      "include_colab_link": true
    },
    "kernelspec": {
      "name": "python3",
      "display_name": "Python 3"
    },
    "language_info": {
      "name": "python"
    },
    "widgets": {
      "application/vnd.jupyter.widget-state+json": {
        "5a30284a0e6e4b3fa37b856aac6ed972": {
          "model_module": "@jupyter-widgets/controls",
          "model_name": "TextareaModel",
          "model_module_version": "1.5.0",
          "state": {
            "_dom_classes": [],
            "_model_module": "@jupyter-widgets/controls",
            "_model_module_version": "1.5.0",
            "_model_name": "TextareaModel",
            "_view_count": null,
            "_view_module": "@jupyter-widgets/controls",
            "_view_module_version": "1.5.0",
            "_view_name": "TextareaView",
            "continuous_update": true,
            "description": "Meeting Notes:",
            "description_tooltip": null,
            "disabled": false,
            "layout": "IPY_MODEL_46650e76927f42728cf3d0cef90ab70e",
            "placeholder": "Paste meeting notes here...",
            "rows": null,
            "style": "IPY_MODEL_a21006fe9f574a4c9e88f9c3ade637d6",
            "value": "zahlen q3 durchgegangen, umsatz leicht unter plan. hauptgrund sind verzögerungen in frankreich. vertrieb will zusätzliche ressourcen beantragen. nächste steps: daten tiefer analysieren, peer bringt vorschlag ins nächste meeting."
          }
        },
        "46650e76927f42728cf3d0cef90ab70e": {
          "model_module": "@jupyter-widgets/base",
          "model_name": "LayoutModel",
          "model_module_version": "1.2.0",
          "state": {
            "_model_module": "@jupyter-widgets/base",
            "_model_module_version": "1.2.0",
            "_model_name": "LayoutModel",
            "_view_count": null,
            "_view_module": "@jupyter-widgets/base",
            "_view_module_version": "1.2.0",
            "_view_name": "LayoutView",
            "align_content": null,
            "align_items": null,
            "align_self": null,
            "border": null,
            "bottom": null,
            "display": null,
            "flex": null,
            "flex_flow": null,
            "grid_area": null,
            "grid_auto_columns": null,
            "grid_auto_flow": null,
            "grid_auto_rows": null,
            "grid_column": null,
            "grid_gap": null,
            "grid_row": null,
            "grid_template_areas": null,
            "grid_template_columns": null,
            "grid_template_rows": null,
            "height": "200px",
            "justify_content": null,
            "justify_items": null,
            "left": null,
            "margin": null,
            "max_height": null,
            "max_width": null,
            "min_height": null,
            "min_width": null,
            "object_fit": null,
            "object_position": null,
            "order": null,
            "overflow": null,
            "overflow_x": null,
            "overflow_y": null,
            "padding": null,
            "right": null,
            "top": null,
            "visibility": null,
            "width": "800px"
          }
        },
        "a21006fe9f574a4c9e88f9c3ade637d6": {
          "model_module": "@jupyter-widgets/controls",
          "model_name": "DescriptionStyleModel",
          "model_module_version": "1.5.0",
          "state": {
            "_model_module": "@jupyter-widgets/controls",
            "_model_module_version": "1.5.0",
            "_model_name": "DescriptionStyleModel",
            "_view_count": null,
            "_view_module": "@jupyter-widgets/base",
            "_view_module_version": "1.2.0",
            "_view_name": "StyleView",
            "description_width": ""
          }
        }
      }
    }
  },
  "cells": [
    {
      "cell_type": "markdown",
      "metadata": {
        "id": "view-in-github",
        "colab_type": "text"
      },
      "source": [
        "<a href=\"https://colab.research.google.com/github/1989-juliana-h/hello-world/blob/master/Test_OpenAI_API.ipynb\" target=\"_parent\"><img src=\"https://colab.research.google.com/assets/colab-badge.svg\" alt=\"Open In Colab\"/></a>"
      ]
    },
    {
      "cell_type": "markdown",
      "metadata": {
        "id": "cd16b81f"
      },
      "source": [
        "# Test Notebook OpenAI API\n",
        "Learning: Kostet Geld, man braucht Guthaben im OpenAI Konto\n"
      ]
    },
    {
      "cell_type": "code",
      "metadata": {
        "colab": {
          "base_uri": "https://localhost:8080/"
        },
        "id": "b857f4d6",
        "outputId": "874d83a2-cc0e-455e-f3da-11d8d2b479b5"
      },
      "source": [
        "%pip install --upgrade openai"
      ],
      "execution_count": 2,
      "outputs": [
        {
          "output_type": "stream",
          "name": "stdout",
          "text": [
            "Requirement already satisfied: openai in /usr/local/lib/python3.12/dist-packages (1.106.1)\n",
            "Requirement already satisfied: anyio<5,>=3.5.0 in /usr/local/lib/python3.12/dist-packages (from openai) (4.10.0)\n",
            "Requirement already satisfied: distro<2,>=1.7.0 in /usr/local/lib/python3.12/dist-packages (from openai) (1.9.0)\n",
            "Requirement already satisfied: httpx<1,>=0.23.0 in /usr/local/lib/python3.12/dist-packages (from openai) (0.28.1)\n",
            "Requirement already satisfied: jiter<1,>=0.4.0 in /usr/local/lib/python3.12/dist-packages (from openai) (0.10.0)\n",
            "Requirement already satisfied: pydantic<3,>=1.9.0 in /usr/local/lib/python3.12/dist-packages (from openai) (2.11.7)\n",
            "Requirement already satisfied: sniffio in /usr/local/lib/python3.12/dist-packages (from openai) (1.3.1)\n",
            "Requirement already satisfied: tqdm>4 in /usr/local/lib/python3.12/dist-packages (from openai) (4.67.1)\n",
            "Requirement already satisfied: typing-extensions<5,>=4.11 in /usr/local/lib/python3.12/dist-packages (from openai) (4.15.0)\n",
            "Requirement already satisfied: idna>=2.8 in /usr/local/lib/python3.12/dist-packages (from anyio<5,>=3.5.0->openai) (3.10)\n",
            "Requirement already satisfied: certifi in /usr/local/lib/python3.12/dist-packages (from httpx<1,>=0.23.0->openai) (2025.8.3)\n",
            "Requirement already satisfied: httpcore==1.* in /usr/local/lib/python3.12/dist-packages (from httpx<1,>=0.23.0->openai) (1.0.9)\n",
            "Requirement already satisfied: h11>=0.16 in /usr/local/lib/python3.12/dist-packages (from httpcore==1.*->httpx<1,>=0.23.0->openai) (0.16.0)\n",
            "Requirement already satisfied: annotated-types>=0.6.0 in /usr/local/lib/python3.12/dist-packages (from pydantic<3,>=1.9.0->openai) (0.7.0)\n",
            "Requirement already satisfied: pydantic-core==2.33.2 in /usr/local/lib/python3.12/dist-packages (from pydantic<3,>=1.9.0->openai) (2.33.2)\n",
            "Requirement already satisfied: typing-inspection>=0.4.0 in /usr/local/lib/python3.12/dist-packages (from pydantic<3,>=1.9.0->openai) (0.4.1)\n"
          ]
        }
      ]
    },
    {
      "cell_type": "markdown",
      "metadata": {
        "id": "491c09c8"
      },
      "source": [
        "Now, you can use the `OpenAI` client to interact with the API. Remember to set your API key securely.\n",
        "\n",
        "It's highly recommended to store your API key using Colab's Secrets feature to keep it safe.\n",
        "\n",
        "1.  On the left sidebar in Colab, click on the \"🔑 Secrets\" tab.\n",
        "2.  Click on \"Add new secret\".\n",
        "3.  In the \"Name\" field, type `OPENAI_API_KEY`.\n",
        "4.  In the \"Value\" field, paste your OpenAI API key.\n",
        "5.  Make sure the \"Notebook access\" toggle is enabled for your current notebook.\n",
        "\n",
        "Once you've added the secret, the following code will be able to access your API key securely."
      ]
    },
    {
      "cell_type": "code",
      "metadata": {
        "colab": {
          "base_uri": "https://localhost:8080/"
        },
        "id": "2e872242",
        "outputId": "eeb3d606-fb06-4e8b-c3cf-546738b15465"
      },
      "source": [
        "from openai import OpenAI\n",
        "from google.colab import userdata\n",
        "\n",
        "try:\n",
        "  # Access your API key securely from Colab secrets\n",
        "  client = OpenAI(api_key=userdata.get('OPENAI_API_KEY'))\n",
        "\n",
        "  response = client.chat.completions.create(\n",
        "    model=\"gpt-3.5-turbo\",  # You can choose a different model\n",
        "    messages=[\n",
        "      {\"role\": \"system\", \"content\": \"You are a helpful assistant.\"},\n",
        "      {\"role\": \"user\", \"content\": \"Write a short poem about the ocean.\"}\n",
        "    ],\n",
        "    max_tokens=100\n",
        "  )\n",
        "  print(response.choices[0].message.content)\n",
        "\n",
        "except Exception as e:\n",
        "  print(f\"An error occurred: {e}\")\n",
        "  print(\"Please ensure your API key is correct and stored as a secret named 'OPENAI_API_KEY' in Colab.\")\n",
        "  print(\"Also, verify that 'Notebook access' is enabled for this secret.\")"
      ],
      "execution_count": 3,
      "outputs": [
        {
          "output_type": "stream",
          "name": "stdout",
          "text": [
            "An error occurred: Error code: 429 - {'error': {'message': 'You exceeded your current quota, please check your plan and billing details. For more information on this error, read the docs: https://platform.openai.com/docs/guides/error-codes/api-errors.', 'type': 'insufficient_quota', 'param': None, 'code': 'insufficient_quota'}}\n",
            "Please ensure your API key is correct and stored as a secret named 'OPENAI_API_KEY' in Colab.\n",
            "Also, verify that 'Notebook access' is enabled for this secret.\n"
          ]
        }
      ]
    },
    {
      "cell_type": "markdown",
      "source": [
        "# Gemini AI\n",
        "Es wird deutlich, dass man für die Nutzung der OpenAI API ein finanzielles Kontigent braucht. Google AI bietet grundsätzlich ein Startpaket, das man zum Testen nutzen kann."
      ],
      "metadata": {
        "id": "Y2Xr60IVL3fj"
      }
    },
    {
      "cell_type": "markdown",
      "metadata": {
        "id": "c3691851"
      },
      "source": [
        "To use the Gemini API, you'll need an API key. If you don't already have one, create a key in Google AI Studio. The Gemini API offers a free tier, which is great for learning and demonstrating.\n",
        "\n",
        "In Colab, add the key to the secrets manager under the \"🔑\" in the left panel. Give it the name `GOOGLE_API_KEY`. Then pass the key to the SDK:"
      ]
    },
    {
      "cell_type": "code",
      "metadata": {
        "id": "b6dc736c"
      },
      "source": [
        "# Import the Python SDK\n",
        "import google.generativeai as genai\n",
        "# Used to securely store your API key\n",
        "from google.colab import userdata\n",
        "\n",
        "GOOGLE_API_KEY=userdata.get('GOOGLE_API_KEY')\n",
        "genai.configure(api_key=GOOGLE_API_KEY)"
      ],
      "execution_count": 1,
      "outputs": []
    },
    {
      "cell_type": "markdown",
      "metadata": {
        "id": "c79f9969"
      },
      "source": [
        "Before you can make any API calls, you need to initialize the Generative Model."
      ]
    },
    {
      "cell_type": "code",
      "metadata": {
        "id": "7ada18cf"
      },
      "source": [
        "# Initialize the Gemini API\n",
        "gemini_model = genai.GenerativeModel('gemini-1.5-flash-latest')"
      ],
      "execution_count": 2,
      "outputs": []
    },
    {
      "cell_type": "markdown",
      "metadata": {
        "id": "887f7444"
      },
      "source": [
        "Now you can make API calls. For example, to generate a poem:"
      ]
    },
    {
      "cell_type": "code",
      "metadata": {
        "colab": {
          "base_uri": "https://localhost:8080/",
          "height": 364
        },
        "id": "467c371c",
        "outputId": "1c93e2cf-77b1-49f5-caba-bf7c19b58aad"
      },
      "source": [
        "response = gemini_model.generate_content('Write a poem about the moon.')\n",
        "print(response.text)"
      ],
      "execution_count": 3,
      "outputs": [
        {
          "output_type": "stream",
          "name": "stdout",
          "text": [
            "A pearl in velvet skies so deep,\n",
            "The moon ascends, her secrets keep.\n",
            "A silver disc, a gentle gleam,\n",
            "Reflecting sun, a waking dream.\n",
            "\n",
            "She watches o'er the sleeping world,\n",
            "Her silent story, softly curled.\n",
            "Across the waves, a path she weaves,\n",
            "Where ocean sighs and softly grieves.\n",
            "\n",
            "From crescent thin to orb so full,\n",
            "Her magic holds, both strong and cool.\n",
            "A mystic guide, a watchful eye,\n",
            "Across the heavens, sailing high.\n",
            "\n",
            "She pulls the tides, a lunar sway,\n",
            "And whispers tales of night and day.\n",
            "A constant friend, a timeless grace,\n",
            "The moon's soft light, a tranquil space.\n",
            "\n"
          ]
        }
      ]
    },
    {
      "cell_type": "markdown",
      "source": [
        "Hier finden Sie die Preisliste für die Preise der einzelnen Modelle, die Google anbietet: https://ai.google.dev/gemini-api/docs/pricing?hl=de\n",
        "Versuchen Sie für Ihren Anwendungsfall, den Sie konkret definieren sollten, zunächst über eine Recherche das passende Modell zu finden. Wenn Sie diese Modelle in einem automatisierten Betrieb nutzen wollen, sollten Sie immer Kosten und Nutzen abwägen. Wie viele Anfragen haben Sie pro Tag, lohnt sich das?"
      ],
      "metadata": {
        "id": "eFkBxvifNZFk"
      }
    },
    {
      "cell_type": "code",
      "source": [
        "# Test mit Meeting Notes zusammenfassen\n",
        "\n",
        "## Beispiel: zahlen q3 durchgegangen, umsatz leicht unter plan. hauptgrund sind verzögerungen in frankreich. vertrieb will zusätzliche ressourcen beantragen. nächste steps: daten tiefer analysieren, peer bringt vorschlag ins nächste meeting.\n",
        "## Wie bewerten Sie den Output, wie würden Sie nun weiter vorgehen, um das Ganze zu optimieren?"
      ],
      "metadata": {
        "id": "I_f1HBrcN7F1"
      },
      "execution_count": null,
      "outputs": []
    },
    {
      "cell_type": "code",
      "metadata": {
        "colab": {
          "base_uri": "https://localhost:8080/",
          "height": 238,
          "referenced_widgets": [
            "5a30284a0e6e4b3fa37b856aac6ed972",
            "46650e76927f42728cf3d0cef90ab70e",
            "a21006fe9f574a4c9e88f9c3ade637d6"
          ]
        },
        "id": "6bec5379",
        "outputId": "bc78d654-aac2-4144-9842-708e5cc60e6d"
      },
      "source": [
        "from ipywidgets import Textarea\n",
        "from IPython.display import display\n",
        "\n",
        "print(\"Please paste your meeting notes below:\")\n",
        "meeting_notes_input = Textarea(\n",
        "    value='',\n",
        "    placeholder='Paste meeting notes here...',\n",
        "    description='Meeting Notes:',\n",
        "    disabled=False,\n",
        "    layout={'width': '800px', 'height': '200px'}\n",
        ")\n",
        "\n",
        "display(meeting_notes_input)"
      ],
      "execution_count": 5,
      "outputs": [
        {
          "output_type": "stream",
          "name": "stdout",
          "text": [
            "Please paste your meeting notes below:\n"
          ]
        },
        {
          "output_type": "display_data",
          "data": {
            "text/plain": [
              "Textarea(value='', description='Meeting Notes:', layout=Layout(height='200px', width='800px'), placeholder='Pa…"
            ],
            "application/vnd.jupyter.widget-view+json": {
              "version_major": 2,
              "version_minor": 0,
              "model_id": "5a30284a0e6e4b3fa37b856aac6ed972"
            }
          },
          "metadata": {}
        }
      ]
    },
    {
      "cell_type": "code",
      "metadata": {
        "colab": {
          "base_uri": "https://localhost:8080/",
          "height": 384
        },
        "id": "69c2d0d6",
        "outputId": "60e54d56-0b89-42bd-a454-707bfc016c11"
      },
      "source": [
        "# Get the meeting notes from the text area\n",
        "meeting_notes = meeting_notes_input.value\n",
        "\n",
        "# Create a prompt for the Gemini API\n",
        "prompt = f\"\"\"Please summarize the following meeting notes.\n",
        "Extract the key decisions, action items, and main discussion points.\n",
        "\n",
        "Meeting Notes:\n",
        "{meeting_notes}\n",
        "\"\"\"\n",
        "\n",
        "# Call the Gemini API\n",
        "try:\n",
        "  response = gemini_model.generate_content(prompt)\n",
        "  summary = response.text\n",
        "  print(\"\\nMeeting Summary:\")\n",
        "  print(summary)\n",
        "\n",
        "except Exception as e:\n",
        "  print(f\"An error occurred while calling the Gemini API: {e}\")\n",
        "  print(\"Please ensure your GOOGLE_API_KEY is correct and you have access to the Gemini API.\")"
      ],
      "execution_count": 6,
      "outputs": [
        {
          "output_type": "stream",
          "name": "stdout",
          "text": [
            "\n",
            "Meeting Summary:\n",
            "**Meeting Summary:**\n",
            "\n",
            "The Q3 Zahlen (figures) were reviewed.  Revenue was slightly below target, primarily due to delays in France.  The sales team will request additional resources.\n",
            "\n",
            "**Key Decisions:** None explicitly stated, but implicitly a decision to further analyze the data and await a proposal from Peer.\n",
            "\n",
            "**Action Items:**\n",
            "\n",
            "* Deeper analysis of the data.\n",
            "* Peer to bring a proposal to the next meeting.\n",
            "* Sales team to request additional resources.\n",
            "\n",
            "**Main Discussion Points:**\n",
            "\n",
            "* Q3 revenue below target.\n",
            "* Delays in France as the primary cause of underperformance.\n",
            "* Need for additional resources in the sales team.\n",
            "\n"
          ]
        }
      ]
    }
  ]
}